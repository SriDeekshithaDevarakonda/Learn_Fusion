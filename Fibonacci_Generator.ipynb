{
 "cells": [
  {
   "cell_type": "code",
   "execution_count": 7,
   "id": "656a0a5a-8398-477d-8feb-75e57e5cbcf0",
   "metadata": {},
   "outputs": [],
   "source": [
    "import tkinter as tk\n",
    "from tkinter import messagebox\n",
    "\n",
    "def fibonacci_recursive(n):\n",
    "    \"\"\"Generate the nth Fibonacci number using a recursive approach.\"\"\"\n",
    "    if n <= 0:\n",
    "        return 0\n",
    "    elif n == 1:\n",
    "        return 1\n",
    "    else:\n",
    "        return fibonacci_recursive(n-1) + fibonacci_recursive(n-2)\n",
    "\n",
    "def generate_fibonacci_sequence(n):\n",
    "    \"\"\"Generate the first n Fibonacci numbers using the recursive approach.\"\"\"\n",
    "    return [fibonacci_recursive(i) for i in range(n)]\n",
    "\n",
    "def on_generate():\n",
    "    try:\n",
    "        n = int(entry.get())\n",
    "        if n <= 0:\n",
    "            raise ValueError(\"The number must be greater than 0.\")\n",
    "        fib_sequence = generate_fibonacci_sequence(n)\n",
    "        result_label.config(text=f\"Fibonacci sequence for n={n}:\\n{fib_sequence}\")\n",
    "    except ValueError as e:\n",
    "        messagebox.showerror(\"Invalid Input\", str(e))\n",
    "\n",
    "# Setting up the GUI\n",
    "root = tk.Tk()\n",
    "root.title(\"Fibonacci Generator\")\n",
    "\n",
    "frame = tk.Frame(root)\n",
    "frame.pack(padx=10, pady=10)\n",
    "#\n",
    "label = tk.Label(frame, text=\"Enter the number of Fibonacci terms:\")\n",
    "label.pack(pady=5)\n",
    "\n",
    "entry = tk.Entry(frame)\n",
    "entry.pack(pady=5)\n",
    "\n",
    "\n",
    "generate_button = tk.Button(frame, text=\"Generate\", command=on_generate,justify=\"left\")\n",
    "generate_button.pack(pady=5)\n",
    "\n",
    "result_label = tk.Label(frame, text=\"\", justify=\"left\")\n",
    "result_label.pack(pady=5)\n",
    "\n",
    "# Start the GUI event loop\n",
    "root.mainloop()"
   ]
  },
  {
   "cell_type": "code",
   "execution_count": null,
   "id": "c2eb13a8-7931-4dbc-ad01-0a203542cf4a",
   "metadata": {},
   "outputs": [],
   "source": []
  },
  {
   "cell_type": "code",
   "execution_count": null,
   "id": "047c9776-2ba4-4445-a1b0-09dd191c2f03",
   "metadata": {},
   "outputs": [],
   "source": []
  },
  {
   "cell_type": "code",
   "execution_count": null,
   "id": "206e390d-b16c-4b62-9d35-d16e9cbd39b2",
   "metadata": {},
   "outputs": [],
   "source": []
  }
 ],
 "metadata": {
  "kernelspec": {
   "display_name": "Python 3 (ipykernel)",
   "language": "python",
   "name": "python3"
  },
  "language_info": {
   "codemirror_mode": {
    "name": "ipython",
    "version": 3
   },
   "file_extension": ".py",
   "mimetype": "text/x-python",
   "name": "python",
   "nbconvert_exporter": "python",
   "pygments_lexer": "ipython3",
   "version": "3.11.7"
  }
 },
 "nbformat": 4,
 "nbformat_minor": 5
}
